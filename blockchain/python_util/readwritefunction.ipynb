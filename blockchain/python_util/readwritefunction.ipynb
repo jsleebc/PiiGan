{
 "cells": [
  {
   "cell_type": "code",
   "execution_count": null,
   "id": "1e12138f",
   "metadata": {},
   "outputs": [],
   "source": [
    "import os\n",
    "import re\n",
    "import pandas as pd\n",
    "\n",
    "pattern = r\"function\\s+(\\w+)\\s*\\((.*?)\\)\\s*(public|external|internal|private)?\\s*(view|pure|override)?\"\n",
    "df = pd.DataFrame(columns=['Contract Name', 'Read Functions', 'Write Functions'])\n",
    "for file_name in os.listdir(\"meme/\"):\n",
    "    if file_name.endswith(\".sol\"):\n",
    "        with open(os.path.join(\"meme/\", file_name), \"r\", encoding=\"utf-8\") as f:\n",
    "            code = f.read()\n",
    "            matches = re.findall(pattern, code)\n",
    "\n",
    "            read_functions = []\n",
    "            write_functions = []\n",
    "            for match in matches:\n",
    "                func_name = match[0]\n",
    "                attributes = match[2:]\n",
    "                if \"view\" in attributes or \"pure\" in attributes:\n",
    "                    read_functions.append(func_name)\n",
    "                else:\n",
    "                    write_functions.append(func_name)\n",
    "            contract_name = file_name.replace('.sol', '')\n",
    "            temp_df = pd.DataFrame([{\n",
    "                'Contract Name': contract_name,\n",
    "                'Read Functions': ', '.join(read_functions),\n",
    "                'Write Functions': ', '.join(write_functions)\n",
    "            }])\n",
    "\n",
    "            df = pd.concat([df, temp_df], ignore_index=True)\n",
    "\n",
    "df.to_csv(\"contract_functions.csv\", index=False, encoding='utf-8-sig')\n"
   ]
  },
  {
   "cell_type": "code",
   "execution_count": null,
   "id": "723e42af",
   "metadata": {},
   "outputs": [],
   "source": [
    "import pandas as pd\n",
    "from collections import Counter\n",
    "\n",
    "df = pd.read_csv(\"contract_functions.csv\")\n",
    "all_read_functions = []\n",
    "all_write_functions = []\n",
    "\n",
    "total_rows = len(df)\n",
    "\n",
    "for _, row in df.iterrows():\n",
    "    if isinstance(row[\"Read Functions\"], str):\n",
    "        unique_read_functions = set(row[\"Read Functions\"].split(\", \"))\n",
    "        all_read_functions.extend(unique_read_functions)\n",
    "    \n",
    "    if isinstance(row[\"Write Functions\"], str):\n",
    "        unique_write_functions = set(row[\"Write Functions\"].split(\", \"))\n",
    "        all_write_functions.extend(unique_write_functions)\n",
    "\n",
    "read_function_counts = Counter(all_read_functions)\n",
    "write_function_counts = Counter(all_write_functions)\n",
    "\n",
    "read_df = pd.DataFrame([(func, count, (count / total_rows) * 100) for func, count in read_function_counts.items()],\n",
    "                       columns=[\"Read Function\", \"Count\", \"Percentage (%)\"])\n",
    "write_df = pd.DataFrame([(func, count, (count / total_rows) * 100) for func, count in write_function_counts.items()],\n",
    "                        columns=[\"Write Function\", \"Count\", \"Percentage (%)\"])\n",
    "\n",
    "with pd.ExcelWriter(\"function_percentage_counts.xlsx\") as writer:\n",
    "    read_df.sort_values(by=\"Percentage (%)\", ascending=False).to_excel(writer, sheet_name=\"Read Functions\", index=False)\n",
    "    write_df.sort_values(by=\"Percentage (%)\", ascending=False).to_excel(writer, sheet_name=\"Write Functions\", index=False)\n"
   ]
  }
 ],
 "metadata": {
  "kernelspec": {
   "display_name": "Python 3 (ipykernel)",
   "language": "python",
   "name": "python3"
  },
  "language_info": {
   "codemirror_mode": {
    "name": "ipython",
    "version": 3
   },
   "file_extension": ".py",
   "mimetype": "text/x-python",
   "name": "python",
   "nbconvert_exporter": "python",
   "pygments_lexer": "ipython3",
   "version": "3.9.13"
  }
 },
 "nbformat": 4,
 "nbformat_minor": 5
}
